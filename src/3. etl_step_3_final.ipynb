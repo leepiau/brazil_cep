{
 "cells": [
  {
   "cell_type": "markdown",
   "id": "ef99fe22",
   "metadata": {},
   "source": [
    "# Project Case:\n",
    "### Olist Store is the largest department store in Brazilian marketplace\n",
    "Olist connects small businesses from all over Brazil to channels without hassle and with a single contract The Brazilian\n",
    "ecommerce public dataset of orders (from 2016 to 2018 made at Olist Store is provided to your\n",
    "company for analysis\n",
    "\n",
    "Your manager is asking you to critically analyse the provided datasets using Business Intelligence\n",
    "tools and provide some marketing findings recommendations in a report format The dataset has\n",
    "information of 100 k orders made at multiple marketplaces in Brazil Its features allow viewing an\n",
    "order from multiple dimensions from order status, price, payment and freight performance to\n",
    "customer location, product attributes and finally reviews written by customers A geolocation\n",
    "dataset that relates Brazilian zip codes to lat lng coordinates is also integrated in the dataset\n",
    "\n",
    "After a customer purchases the product from Olist Store, a seller gets notified to fulfill that order\n",
    "Once the customer receives the product, or the estimated delivery date is due, the customer gets\n",
    "a satisfaction survey by email where they can give a note for the purchase experience and write\n",
    "down some comments\n",
    "\n",
    "\n",
    "## Background:\n",
    "###  CEP: the Brazilian Zip Code\n",
    "A brazilian zip code, also know as CEP, stands for Postal Adressing Code (Código de Endereçamento Postal) and contains 8 digits. Introduced in 1972 as a sequence of five digits, it was expanded to eight digits in 1992 to allow for more precise localization. The standard format is \"nnnnn-nnn\" (the original five digits, an hyphen, and the new three digits).\n",
    "\n",
    "**CEP**: 12.345-678\n",
    "\n",
    "Most cities with population around 100,000 and above have a CEP assigned to every public place and to some high-occupancy private spaces, like major commercial buildings and large residential condos. Small towns are assigned a general 5-digit code followed by the suffix -000.\n",
    "\n",
    "1. the first part is composed by 5 digits that represent Region, Subregion, Sector, Subsector and Subsector Splitter.\n",
    "2. the second part contain 3 digits, separated by an hyphen from the first, and it represents the Distribution Identifiers.\n",
    "\n",
    "More info here: https://www.correios.com.br/a-a-z/cep-codigo-de-enderecamento-postal\n",
    "\n",
    "### Geolocation dataset:\n",
    "The first 5 digits of the zip code are provided, together with latitude and longitude information, city name and state name.\n",
    "\n",
    "#### Issues:\n",
    "- Since we only have the first 5 digits of the zip code, named zip_code_prefix, precise location cannot be determined. This also explains why there are varying lat/lng information for each zip_code_prefix.\n",
    "- Portugese characters include characters which are represented differently from english characters. City names are not uniformly respresented in a single way in the dataset. This is the main challenge to clean up and transform.\n",
    "\n",
    "#### Approach:\n",
    "- Find a reliable source of City, State Names together with CEP information where available, and use this to clean/transform the names in the dataset\n",
    "\n",
    "\n",
    "# Final Round of Transformation\n",
    "String matching with a list of city names from a dataset retrieved from here:\n",
    "https://www.kaggle.com/datasets/crisparada/brazilian-cities?resource=download\n",
    "\n",
    "And finally we load the data into DB\n"
   ]
  },
  {
   "cell_type": "code",
   "execution_count": null,
   "id": "618202fe",
   "metadata": {
    "id": "618202fe"
   },
   "outputs": [],
   "source": [
    "import os\n",
    "import pandas as pd\n",
    "import numpy as np\n",
    "import time\n",
    "import sqlalchemy as db\n",
    "from dotenv import load_dotenv\n",
    "from thefuzz import process, fuzz\n",
    "from datetime import date"
   ]
  },
  {
   "cell_type": "code",
   "execution_count": null,
   "id": "9ae8c79c",
   "metadata": {},
   "outputs": [],
   "source": [
    "# Load environment variables from .env file\n",
    "load_dotenv()\n",
    "\n",
    "# Access environment variable\n",
    "db_local=os.environ['olist_db_local']\n",
    "db_azure=os.environ['olist_db_azure']\n",
    "back4app_id=os.environ['back4app_id']\n",
    "back4app_key=os.environ['back4app_key']\n",
    "export_path_local=os.environ['export_path_local']"
   ]
  },
  {
   "cell_type": "markdown",
   "id": "17909def",
   "metadata": {},
   "source": [
    "# Import and Inspect Processed Location Datasets"
   ]
  },
  {
   "cell_type": "code",
   "execution_count": null,
   "id": "bc16572f",
   "metadata": {
    "colab": {
     "base_uri": "https://localhost:8080/"
    },
    "id": "bc16572f",
    "outputId": "d9a636ac-8457-4af7-e289-254469269226"
   },
   "outputs": [],
   "source": [
    "# Download processed location data, convert to a dataframe\n",
    "geo_df = pd.read_csv(f'{export_path_local}geolocation_2024-04-28.csv')\n",
    "geo_df.info()"
   ]
  },
  {
   "cell_type": "code",
   "execution_count": null,
   "id": "bcc7af01",
   "metadata": {
    "id": "bcc7af01"
   },
   "outputs": [],
   "source": [
    "# Look at first 5 entries\n",
    "geo_df.head()"
   ]
  },
  {
   "cell_type": "code",
   "execution_count": null,
   "id": "4e384953",
   "metadata": {
    "id": "4e384953"
   },
   "outputs": [],
   "source": [
    "# Zip code prefix should be 5 digits long with leading zeroes\n",
    "geo_df['zip_code_prefix'] = geo_df['zip_code_prefix'].apply(lambda x: '{0:0>5}'.format(x))"
   ]
  },
  {
   "cell_type": "code",
   "execution_count": null,
   "id": "c5c9e838",
   "metadata": {},
   "outputs": [],
   "source": [
    "# Drop old index col\n",
    "geo_df.drop('Unnamed: 0', axis=1, inplace=True)"
   ]
  },
  {
   "cell_type": "code",
   "execution_count": null,
   "id": "70e19492",
   "metadata": {},
   "outputs": [],
   "source": [
    "# Drop cep col - not accurate after merge due to incomplete original zip code data\n",
    "geo_df.drop('cep', axis=1, inplace=True)\n",
    "geo_df.info()"
   ]
  },
  {
   "cell_type": "code",
   "execution_count": null,
   "id": "206bffe0",
   "metadata": {
    "id": "206bffe0",
    "scrolled": true
   },
   "outputs": [],
   "source": [
    "# Inspect unique values in city (1)\n",
    "city = geo_df['city'].unique().tolist()\n",
    "print('Unique city values: ', geo_df['city'].nunique(), '\\n', city)"
   ]
  },
  {
   "cell_type": "markdown",
   "id": "83095007",
   "metadata": {},
   "source": [
    "# Import & Inspect City Dataset"
   ]
  },
  {
   "cell_type": "code",
   "execution_count": null,
   "id": "6e27d5ef",
   "metadata": {
    "colab": {
     "base_uri": "https://localhost:8080/"
    },
    "id": "6e27d5ef",
    "outputId": "9fd2ba39-408b-4996-cfac-ee50f43948ef"
   },
   "outputs": [],
   "source": [
    "# Import list of Brazillian cities\n",
    "cities_df = pd.read_csv(f'{export_path_local}BRAZIL_CITIES_REV2022.CSV')\n",
    "cities_df.info()"
   ]
  },
  {
   "cell_type": "code",
   "execution_count": null,
   "id": "c5855a48",
   "metadata": {
    "id": "c5855a48",
    "scrolled": true
   },
   "outputs": [],
   "source": [
    "# Create a list of city names\n",
    "cities = cities_df['CITY'].tolist()\n",
    "print(len(cities), '\\n', cities)"
   ]
  },
  {
   "cell_type": "code",
   "execution_count": null,
   "id": "01c2c0ed",
   "metadata": {},
   "outputs": [],
   "source": [
    "# Test for names in list\n",
    "if 'São Paulo' in cities:\n",
    "    print(\"Desired item is in list\")"
   ]
  },
  {
   "cell_type": "code",
   "execution_count": null,
   "id": "eca18ae9",
   "metadata": {},
   "outputs": [],
   "source": [
    "# Test matching ratio\n",
    "fuzz.WRatio('São Paulo', 'Sao Paulo')"
   ]
  },
  {
   "cell_type": "code",
   "execution_count": null,
   "id": "8d393cdc",
   "metadata": {},
   "outputs": [],
   "source": [
    "# Inspect match statement output\n",
    "matches = process.extract('Abadia Dos Dourados', geo_df['city'], limit = geo_df.shape[0])\n",
    "matches"
   ]
  },
  {
   "cell_type": "markdown",
   "id": "ea9660bf",
   "metadata": {},
   "source": [
    "# Using City dataset, perform fuzzy string-match with processed location dataset"
   ]
  },
  {
   "cell_type": "code",
   "execution_count": null,
   "id": "31664045",
   "metadata": {},
   "outputs": [],
   "source": [
    "%%time\n",
    "for i, city in enumerate(cities):\n",
    "    matches = process.extract(city, geo_df['city'], limit=geo_df.shape[0])\n",
    "    high_score_match = None\n",
    "\n",
    "    # Iterate through the matches to find the one with the highest score above 90\n",
    "    for potential_match in matches:\n",
    "        if potential_match[1] > 91:\n",
    "            if high_score_match is None or potential_match[1] > high_score_match[1]:\n",
    "                high_score_match = potential_match\n",
    "\n",
    "    # If a match with the highest score above 80 is found, update the 'geolocation_city'\n",
    "    if high_score_match:\n",
    "        print(high_score_match[0])\n",
    "        geo_df.loc[geo_df['city'] == high_score_match[0], 'city'] = city\n",
    "    n = geo_df[geo_df['city'] == city]['city'].count()\n",
    "    print(f'{i}', '. ', city, '\\t','Matched: ', n)"
   ]
  },
  {
   "cell_type": "code",
   "execution_count": null,
   "id": "70ae8c68",
   "metadata": {
    "id": "70ae8c68"
   },
   "outputs": [],
   "source": [
    "# Inspect unique 'city' values in processed df\n",
    "city = geo_df['city'].unique().tolist()\n",
    "print('Unique city values: ', geo_df['city'].nunique(), '\\n', city)"
   ]
  },
  {
   "cell_type": "code",
   "execution_count": null,
   "id": "77bdc35f",
   "metadata": {},
   "outputs": [],
   "source": [
    "# Replace 'Sao' with 'São' in the 'column_name'\n",
    "geo_df['city'] = geo_df['city'].str.replace('Sao', 'São')"
   ]
  },
  {
   "cell_type": "code",
   "execution_count": null,
   "id": "887e4afb",
   "metadata": {},
   "outputs": [],
   "source": [
    "# Inspect list of cities\n",
    "cities = geo_df['city'].unique().tolist()\n",
    "cities.sort()\n",
    "print('Unique city values: ', geo_df['city'].nunique(), '\\n', cities)"
   ]
  },
  {
   "cell_type": "code",
   "execution_count": null,
   "id": "998938ae",
   "metadata": {},
   "outputs": [],
   "source": [
    "# Perform a similarity check on adjacent elements\n",
    "city_1 = []\n",
    "city_2 = []\n",
    "\n",
    "for i in range(len(cities)-1):\n",
    "    match = fuzz.WRatio(cities[i], cities[i+1])\n",
    "    if match > 92:\n",
    "        city_1.append(cities[i])\n",
    "        city_2.append(cities[i+1])\n",
    "\n",
    "print(city_1, city_2)"
   ]
  },
  {
   "cell_type": "code",
   "execution_count": null,
   "id": "e4f45209",
   "metadata": {},
   "outputs": [],
   "source": [
    "for i in range(len(city_1)):\n",
    "    print(i,' ',city_1[i],'\\n',city_2[i])"
   ]
  },
  {
   "cell_type": "code",
   "execution_count": null,
   "id": "6891ad3c",
   "metadata": {},
   "outputs": [],
   "source": [
    "# Remove different cities from the lists\n",
    "index = [1, 4, 9, 38, 54, 60, 61, 64, 65, 68]\n",
    "for i in sorted(index, reverse=True):\n",
    "    city_1.pop(i)\n",
    "    city_2.pop(i)"
   ]
  },
  {
   "cell_type": "code",
   "execution_count": null,
   "id": "6facc719",
   "metadata": {},
   "outputs": [],
   "source": [
    "# Replace similar city names with the same name \n",
    "geo_df['city'].replace(to_replace=city_1, value=city_2, inplace=True)"
   ]
  },
  {
   "cell_type": "markdown",
   "id": "4b066b0f",
   "metadata": {},
   "source": [
    "# FROM HERE"
   ]
  },
  {
   "cell_type": "code",
   "execution_count": null,
   "id": "027b9391",
   "metadata": {},
   "outputs": [],
   "source": [
    "# # Download processed location data, convert to a dataframe\n",
    "# geo_df = pd.read_csv(f'{export_path_local}geolocation_realFuzzy_2024-04-30.csv')\n",
    "# # Zip code prefix should be 5 digits long with leading zeroes\n",
    "# geo_df['zip_code_prefix'] = geo_df['zip_code_prefix'].apply(lambda x: '{0:0>5}'.format(x))\n",
    "# # Drop old index col\n",
    "# geo_df.drop('Unnamed: 0', axis=1, inplace=True)"
   ]
  },
  {
   "cell_type": "code",
   "execution_count": null,
   "id": "67126886",
   "metadata": {},
   "outputs": [],
   "source": [
    "geo_df.describe()"
   ]
  },
  {
   "cell_type": "code",
   "execution_count": null,
   "id": "0f163005",
   "metadata": {},
   "outputs": [],
   "source": [
    "geo_df.info()"
   ]
  },
  {
   "cell_type": "markdown",
   "id": "7827956d",
   "metadata": {},
   "source": [
    "# Remove outliers in geolocation data:\n",
    "- most Northern spot is at 5 deg 16′ 27.8″ N latitude\n",
    "- most southern spot is at 33 deg, 45′ 04.21″ S Latitude.\n",
    "- most Eastern spot is 34 deg, 47′ 35.33″ W Long\n",
    "- most Western spot is at 73 deg, 58′ 58.19″W Long\n",
    "- https://en.wikipedia.org/wiki/Geography_of_Brazil"
   ]
  },
  {
   "cell_type": "code",
   "execution_count": null,
   "id": "a9374d55",
   "metadata": {},
   "outputs": [],
   "source": [
    "# Removing some outliers\n",
    "#Brazils most Northern spot is at 5 deg 16′ 27.8″ N latitude.;\n",
    "geo_df = geo_df[geo_df['lat'] <= 5.27438888]\n",
    "#it’s most Western spot is at 73 deg, 58′ 58.19″W Long.\n",
    "geo_df = geo_df[geo_df['lng'] >= -73.98283055]\n",
    "#It’s most southern spot is at 33 deg, 45′ 04.21″ S Latitude.\n",
    "geo_df = geo_df[geo_df['lat'] >= -33.75116944]\n",
    "#It’s most Eastern spot is 34 deg, 47′ 35.33″ W Long.\n",
    "geo_df = geo_df[geo_df['lng'] <=  -34.79314722]"
   ]
  },
  {
   "cell_type": "code",
   "execution_count": null,
   "id": "34f5217c",
   "metadata": {},
   "outputs": [],
   "source": [
    "geo_df.info()"
   ]
  },
  {
   "cell_type": "code",
   "execution_count": null,
   "id": "bc8cfd93",
   "metadata": {},
   "outputs": [],
   "source": [
    "geo_df.describe()"
   ]
  },
  {
   "cell_type": "code",
   "execution_count": null,
   "id": "33d3a071",
   "metadata": {},
   "outputs": [],
   "source": [
    "geo_df.nunique()"
   ]
  },
  {
   "cell_type": "code",
   "execution_count": null,
   "id": "7ba89b40",
   "metadata": {},
   "outputs": [],
   "source": [
    "geo_df['state'] = geo_df['state'].str.strip()\n",
    "geo_df['state'].nunique()"
   ]
  },
  {
   "cell_type": "code",
   "execution_count": null,
   "id": "3a1d16d0",
   "metadata": {},
   "outputs": [],
   "source": [
    "geo_df.head()"
   ]
  },
  {
   "cell_type": "code",
   "execution_count": null,
   "id": "2682511b",
   "metadata": {},
   "outputs": [],
   "source": [
    "# Export to .csv file\n",
    "today = date.today()\n",
    "geo_df.to_csv(f'{export_path_local}geolocation_realFuzzy_{today}.csv')"
   ]
  },
  {
   "cell_type": "markdown",
   "id": "ece1f12c",
   "metadata": {},
   "source": [
    "# Create table in db"
   ]
  },
  {
   "cell_type": "code",
   "execution_count": null,
   "id": "189e7cdb",
   "metadata": {
    "id": "189e7cdb"
   },
   "outputs": [],
   "source": [
    "# Connect to DB\n",
    "engine = db.create_engine(db_azure)\n",
    "conn = engine.raw_connection()"
   ]
  },
  {
   "cell_type": "code",
   "execution_count": null,
   "id": "1282497b",
   "metadata": {
    "id": "1282497b"
   },
   "outputs": [],
   "source": [
    "# Create new table in PostgreSQL\n",
    "commands = (f'''CREATE TABLE IF NOT EXISTS location(\n",
    ");''')\n",
    "\n",
    "# Initialize connection to PostgreSQL\n",
    "cur = conn.cursor()\n",
    "\n",
    "# Create cursor to execute SQL commands\n",
    "#for command in commands:\n",
    "cur.execute(commands)\n",
    "\n",
    "# Commit changes\n",
    "conn.commit()"
   ]
  },
  {
   "cell_type": "code",
   "execution_count": null,
   "id": "f98dbe3a",
   "metadata": {
    "id": "f98dbe3a"
   },
   "outputs": [],
   "source": [
    "# Copy data to table\n",
    "geo_df.to_sql(name= 'location', con = engine, if_exists= 'replace')"
   ]
  },
  {
   "cell_type": "code",
   "execution_count": null,
   "id": "a29eb432",
   "metadata": {
    "id": "a29eb432"
   },
   "outputs": [],
   "source": [
    "# Close communication with server\n",
    "cur.close()\n",
    "conn.close()"
   ]
  },
  {
   "cell_type": "markdown",
   "id": "9085729d",
   "metadata": {
    "id": "735dbbb8"
   },
   "source": [
    "# End - Random String Checks"
   ]
  },
  {
   "cell_type": "code",
   "execution_count": null,
   "id": "43c6b310",
   "metadata": {},
   "outputs": [],
   "source": [
    "print(geo_df[geo_df['city'] == 'Abadia Dos Dourados']['city'].count())"
   ]
  },
  {
   "cell_type": "code",
   "execution_count": null,
   "id": "15b91984",
   "metadata": {},
   "outputs": [],
   "source": [
    "for ele in sorted(city):\n",
    "    print(ele)"
   ]
  }
 ],
 "metadata": {
  "accelerator": "TPU",
  "colab": {
   "history_visible": true,
   "provenance": []
  },
  "kernelspec": {
   "display_name": "Python 3 (ipykernel)",
   "language": "python",
   "name": "python3"
  },
  "language_info": {
   "codemirror_mode": {
    "name": "ipython",
    "version": 3
   },
   "file_extension": ".py",
   "mimetype": "text/x-python",
   "name": "python",
   "nbconvert_exporter": "python",
   "pygments_lexer": "ipython3",
   "version": "3.11.5"
  }
 },
 "nbformat": 4,
 "nbformat_minor": 5
}
